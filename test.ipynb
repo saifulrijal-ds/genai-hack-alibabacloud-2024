{
 "cells": [
  {
   "cell_type": "code",
   "execution_count": 1,
   "metadata": {},
   "outputs": [
    {
     "data": {
      "text/plain": [
       "True"
      ]
     },
     "execution_count": 1,
     "metadata": {},
     "output_type": "execute_result"
    }
   ],
   "source": [
    "from dotenv import load_dotenv\n",
    "\n",
    "load_dotenv()"
   ]
  },
  {
   "cell_type": "code",
   "execution_count": 4,
   "metadata": {},
   "outputs": [
    {
     "name": "stdout",
     "output_type": "stream",
     "text": [
      "{\"status_code\": 200, \"request_id\": \"35eb7570-0325-9fc4-b1da-789b34523b99\", \"code\": \"\", \"message\": \"\", \"output\": {\"text\": null, \"finish_reason\": null, \"choices\": [{\"finish_reason\": \"stop\", \"message\": {\"role\": \"assistant\", \"content\": \"The capital of China is Beijing. It is not only the political center of the country, but also a major cultural, educational, and economic hub. Located in northern China, Beijing has a long history dating back over 3,000 years, with its name meaning \\\"Northern Capital\\\" in Chinese. The city is renowned for its historical landmarks and architectural wonders, such as the Forbidden City, the Great Wall, the Temple of Heaven, and the Summer Palace. It also hosts numerous prestigious universities and is a global center for arts, fashion, and sports events.\"}}]}, \"usage\": {\"input_tokens\": 14, \"output_tokens\": 114, \"total_tokens\": 128}}\n",
      "Full content: \n",
      "\n"
     ]
    }
   ],
   "source": [
    "# Refer to the document for workspace information: https://www.alibabacloud.com/help/en/model-studio/developer-reference/model-calling-in-sub-workspace    \n",
    "        \n",
    "import random\n",
    "from http import HTTPStatus\n",
    "import dashscope\n",
    "\n",
    "dashscope.base_http_api_url = 'https://dashscope-intl.aliyuncs.com/api/v1'\n",
    "\n",
    "def call_stream_with_messages():\n",
    "    messages = [\n",
    "        {'role': 'user', 'content': 'Introduce the capital of China'}]\n",
    "    responses = dashscope.Generation.call(\n",
    "        'qwen1.5-72b-chat',\n",
    "        messages=messages,\n",
    "        seed=random.randint(1, 10000),  # set the random seed, optional, default to 1234 if not set\n",
    "        result_format='message',  # set the result to be \"message\"  format.\n",
    "        stream=False,\n",
    "        output_in_full=True  # get streaming output incrementally\n",
    "    )\n",
    "    full_content = ''\n",
    "    print(responses)\n",
    "    # for response in responses:\n",
    "    #     if response.status_code == HTTPStatus.OK:\n",
    "    #         full_content += response.output.choices[0]['message']['content']\n",
    "    #         print(response)\n",
    "    #     else:\n",
    "    #         print('Request id: %s, Status code: %s, error code: %s, error message: %s' % (\n",
    "    #             response.request_id, response.status_code,\n",
    "    #             response.code, response.message\n",
    "    #         ))\n",
    "    print('Full content: \\n' + full_content)\n",
    "\n",
    "\n",
    "if __name__ == '__main__':\n",
    "    call_stream_with_messages()"
   ]
  },
  {
   "cell_type": "code",
   "execution_count": 5,
   "metadata": {},
   "outputs": [
    {
     "name": "stdout",
     "output_type": "stream",
     "text": [
      "request_id=2e5c0f84-1494-9e52-b685-4b9cfefa3066\n",
      " output={\"text\": \"PT BFI Finance Indonesia Tbk dihadapkan pada beberapa tantangan di industri pembiayaan non-bank, antara lain restrukturisasi dan penyelesaian pembiayaan bermasalah yang membutuhkan penanganan khusus<ref>[1]</ref>. Untuk mengatasi tantangan ini, perusahaan fokus pada optimalisasi layanan konsumen melalui restrukturisasi tersebut dan meningkatkan layanan pelanggan dengan cara melakukan digitalisasi<ref>[1]</ref>. Selain itu, untuk mempertahankan kualitas layanan serta menjaga daya saing dalam industri yang kompetitif, perusahaan menerapkan kerangka kerja Service Excellence Strategy. Kerangka kerja ini terdiri dari tiga komponen utama, termasuk Sustaining Service Insight, yang bertujuan mempertahankan wawasan layanan yang efektif<ref>[1]</ref>, membantu PT BFI Finance Indonesia Tbk dalam mengatasi tantangan dan mencapai posisi yang lebih kuat di tahun-tahun mendatang.\", \"finish_reason\": \"stop\", \"session_id\": \"5ef7b7ce7c50490ebf9d013f62094a65\", \"thoughts\": null, \"doc_references\": [{\"index_id\": \"1\", \"title\": \"Unit Pendukuna Bisnis PELAYANAN\", \"doc_id\": \"file_8e70e215d1cf4054b60ff426b37ac23d_1992\", \"doc_name\": \"IR BFIN 2022_IND\", \"doc_url\": null, \"text\": \"Dua fokus utama Perusahaan di bidang Pelayanan Konsumen di 2022 adalah optimalisasi layanan konsumen untuk restrukturisasi dan penyelesaian pembiayaan bermasalah yang membutuhkan penanganan khusus， serta peningkatan layanan pelanggan melalui digitalisasi.PT BFI Finance Indonesia TbkAgar dapat mempertahankan kualitas layanannya sekaligus menjaga bisnisnya menghadapi persaingan industri， Perusahaan memberikan layanan terbaik bagi konsumen dengan dipandu oleh kerangka kerja Service Excellence Strategy， yang terdiri dari tiga komponen utama， yaitu：1. Sustaining Service Insight (Mempertahankan\", \"biz_id\": null, \"images\": []}]}\n",
      " usage={\"models\": [{\"model_id\": \"qwen-max\", \"input_tokens\": 1676, \"output_tokens\": 243}]}\n",
      "\n"
     ]
    }
   ],
   "source": [
    "from http import HTTPStatus\n",
    "from dashscope import Application\n",
    "dashscope.base_http_api_url = 'https://dashscope-intl.aliyuncs.com/api/v1'\n",
    "import os\n",
    "from dotenv import load_dotenv\n",
    "\n",
    "load_dotenv()\n",
    "\n",
    "def call_agent_app(prompt):\n",
    "    response = Application.call(app_id='dd9fcf7e0f9142248452a8ead50641b8',# dd9fcf7e0f9142248452a8ead50641b8\n",
    "                                prompt=prompt,\n",
    "                                api_key=os.getenv('DASHSCOPE_API_KEY'))\n",
    "\n",
    "    if response.status_code != HTTPStatus.OK:\n",
    "        print('request_id=%s, code=%s, message=%s\\n' % (response.request_id, response.status_code, response.message))\n",
    "    else:\n",
    "        print('request_id=%s\\n output=%s\\n usage=%s\\n' % (response.request_id, response.output, response.usage))\n",
    "\n",
    "\n",
    "if __name__ == '__main__':\n",
    "    prompt = \"Apa tantangan utama yang dihadapi PT BFI Finance Indonesia Tbk dalam industri pembiayaan non-bank, dan bagaimana perusahaan memposisikan diri untuk mengatasi tantangan-tantangan ini di tahun mendatang?\"\n",
    "    call_agent_app(prompt=prompt)"
   ]
  },
  {
   "cell_type": "code",
   "execution_count": null,
   "metadata": {},
   "outputs": [],
   "source": []
  }
 ],
 "metadata": {
  "kernelspec": {
   "display_name": "genai-hack-alibabacloud-2024-nt0MXXku",
   "language": "python",
   "name": "python3"
  },
  "language_info": {
   "codemirror_mode": {
    "name": "ipython",
    "version": 3
   },
   "file_extension": ".py",
   "mimetype": "text/x-python",
   "name": "python",
   "nbconvert_exporter": "python",
   "pygments_lexer": "ipython3",
   "version": "3.11.9"
  }
 },
 "nbformat": 4,
 "nbformat_minor": 2
}
