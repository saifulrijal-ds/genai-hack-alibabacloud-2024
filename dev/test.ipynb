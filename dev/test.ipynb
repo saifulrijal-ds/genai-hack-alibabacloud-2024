{
 "cells": [
  {
   "cell_type": "code",
   "execution_count": 1,
   "metadata": {},
   "outputs": [
    {
     "data": {
      "text/plain": [
       "True"
      ]
     },
     "execution_count": 1,
     "metadata": {},
     "output_type": "execute_result"
    }
   ],
   "source": [
    "from dotenv import load_dotenv\n",
    "\n",
    "load_dotenv()"
   ]
  },
  {
   "cell_type": "code",
   "execution_count": 4,
   "metadata": {},
   "outputs": [
    {
     "name": "stdout",
     "output_type": "stream",
     "text": [
      "{\"status_code\": 200, \"request_id\": \"35eb7570-0325-9fc4-b1da-789b34523b99\", \"code\": \"\", \"message\": \"\", \"output\": {\"text\": null, \"finish_reason\": null, \"choices\": [{\"finish_reason\": \"stop\", \"message\": {\"role\": \"assistant\", \"content\": \"The capital of China is Beijing. It is not only the political center of the country, but also a major cultural, educational, and economic hub. Located in northern China, Beijing has a long history dating back over 3,000 years, with its name meaning \\\"Northern Capital\\\" in Chinese. The city is renowned for its historical landmarks and architectural wonders, such as the Forbidden City, the Great Wall, the Temple of Heaven, and the Summer Palace. It also hosts numerous prestigious universities and is a global center for arts, fashion, and sports events.\"}}]}, \"usage\": {\"input_tokens\": 14, \"output_tokens\": 114, \"total_tokens\": 128}}\n",
      "Full content: \n",
      "\n"
     ]
    }
   ],
   "source": [
    "# Refer to the document for workspace information: https://www.alibabacloud.com/help/en/model-studio/developer-reference/model-calling-in-sub-workspace    \n",
    "        \n",
    "import random\n",
    "from http import HTTPStatus\n",
    "import dashscope\n",
    "\n",
    "dashscope.base_http_api_url = 'https://dashscope-intl.aliyuncs.com/api/v1'\n",
    "\n",
    "def call_stream_with_messages():\n",
    "    messages = [\n",
    "        {'role': 'user', 'content': 'Introduce the capital of China'}]\n",
    "    responses = dashscope.Generation.call(\n",
    "        'qwen1.5-72b-chat',\n",
    "        messages=messages,\n",
    "        seed=random.randint(1, 10000),  # set the random seed, optional, default to 1234 if not set\n",
    "        result_format='message',  # set the result to be \"message\"  format.\n",
    "        stream=False,\n",
    "        output_in_full=True  # get streaming output incrementally\n",
    "    )\n",
    "    full_content = ''\n",
    "    print(responses)\n",
    "    # for response in responses:\n",
    "    #     if response.status_code == HTTPStatus.OK:\n",
    "    #         full_content += response.output.choices[0]['message']['content']\n",
    "    #         print(response)\n",
    "    #     else:\n",
    "    #         print('Request id: %s, Status code: %s, error code: %s, error message: %s' % (\n",
    "    #             response.request_id, response.status_code,\n",
    "    #             response.code, response.message\n",
    "    #         ))\n",
    "    print('Full content: \\n' + full_content)\n",
    "\n",
    "\n",
    "if __name__ == '__main__':\n",
    "    call_stream_with_messages()"
   ]
  },
  {
   "cell_type": "code",
   "execution_count": 1,
   "metadata": {},
   "outputs": [
    {
     "name": "stdout",
     "output_type": "stream",
     "text": [
      "request_id=55e998d3-3d3f-9d8f-8da5-b1882893d297\n",
      " output={\"text\": \"Tentu, saya akan dengan senang hati membantu Anda dalam mencari sekolah yang sesuai untuk anak Anda. Pertama-tama, tolong berikan saya beberapa informasi penting:\\n\\n1. Tingkat pendidikan anak Anda saat ini (sekolah dasar, sekolah menengah pertama, sekolah menengah atas, atau sekolah menengah kejuruan)?\\n2. Lokasi tinggal Anda, yaitu kabupaten atau kota di Jawa Barat?\\n3. Apakah Anda mencari sekolah swasta atau negeri?\\n4. Apakah ada kecamatan spesifik yang Anda inginkan?\\n5. Apakah ada kriteria lain yang penting bagi Anda, seperti biaya sekolah, fasilitas, atau program ekstrakurikuler tertentu?\", \"finish_reason\": \"stop\", \"session_id\": \"5b102d30c3234158b6c60047a1789181\", \"thoughts\": null, \"doc_references\": null}\n",
      " usage={\"models\": [{\"model_id\": \"qwen-max\", \"input_tokens\": 3440, \"output_tokens\": 174}]}\n",
      "\n"
     ]
    }
   ],
   "source": [
    "from http import HTTPStatus\n",
    "import dashscope\n",
    "from dashscope import Application, Assistant\n",
    "import os\n",
    "from dotenv import load_dotenv\n",
    "\n",
    "dashscope.base_http_api_url = 'https://dashscope-intl.aliyuncs.com/api/v1'\n",
    "\n",
    "load_dotenv()\n",
    "\n",
    "def call_agent_app(prompt):\n",
    "    response = Application.call(app_id='bf247a062c664d2a8ef9fd0b3b51b60a',# dd9fcf7e0f9142248452a8ead50641b8\n",
    "                                prompt=prompt,\n",
    "                                api_key=os.getenv('DASHSCOPE_API_KEY'))\n",
    "\n",
    "    if response.status_code != HTTPStatus.OK:\n",
    "        print('request_id=%s, code=%s, message=%s\\n' % (response.request_id, response.status_code, response.message))\n",
    "        # return response.message\n",
    "    else:\n",
    "        print('request_id=%s\\n output=%s\\n usage=%s\\n' % (response.request_id, response.output, response.usage))\n",
    "        # return response.output\n",
    "\n",
    "\n",
    "if __name__ == '__main__':\n",
    "    prompt = \"Saya ingin mencari sekolah untuk anak saya\"\n",
    "    call_agent_app(prompt=prompt)"
   ]
  },
  {
   "cell_type": "code",
   "execution_count": null,
   "metadata": {},
   "outputs": [],
   "source": [
    "# 861c403730ee40a7a4d589d93762ae71"
   ]
  },
  {
   "cell_type": "code",
   "execution_count": 8,
   "metadata": {},
   "outputs": [
    {
     "name": "stdout",
     "output_type": "stream",
     "text": [
      "{\"text\": \"Untuk menyajikan informasi struktur saham dalam bentuk chat, biasanya diperlukan beberapa detail penting seperti jumlah total saham, persentase pemegang saham mayoritas, pemegang saham minoritas, dan jika ada, struktur kepemilikan yang lebih detail seperti pemegang saham besar atau pengendali (majority shareholder).\\n\\nNamun, sebelum dapat memberikan informasi yang spesifik, saya perlu beberapa detail berikut:\\n\\n1. Total jumlah saham perusahaan.\\n2. Informasi tentang pemegang saham mayoritas dan minoritas.\\n3. Struktur kepemilikan yang lebih detail jika ada.\\n4. Apakah ada pemegang saham dengan pengaruh signifikan atau pemegang saham mayoritas?\\n\\nApabila Anda memiliki data tersebut, silakan berikan dan saya akan menyajikannya dalam format yang memudahkan dipahami dan dibaca.\", \"finish_reason\": \"stop\", \"session_id\": \"6a26a426116e4a999ab67927cdcd6134\", \"thoughts\": null, \"doc_references\": null}\n"
     ]
    }
   ],
   "source": [
    "prompt=\"Tolong sajikan informasi struktur saham yang diberikan dalam bentuk chat?\"\n",
    "print(call_agent_app(prompt=prompt))"
   ]
  },
  {
   "cell_type": "code",
   "execution_count": null,
   "metadata": {},
   "outputs": [],
   "source": []
  }
 ],
 "metadata": {
  "kernelspec": {
   "display_name": "genai-hack-alibabacloud-2024-nt0MXXku",
   "language": "python",
   "name": "python3"
  },
  "language_info": {
   "codemirror_mode": {
    "name": "ipython",
    "version": 3
   },
   "file_extension": ".py",
   "mimetype": "text/x-python",
   "name": "python",
   "nbconvert_exporter": "python",
   "pygments_lexer": "ipython3",
   "version": "3.11.9"
  }
 },
 "nbformat": 4,
 "nbformat_minor": 2
}
